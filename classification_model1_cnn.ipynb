{
  "cells": [
    {
      "cell_type": "code",
      "execution_count": 1,
      "metadata": {
        "id": "9dyxA7EB_OI-"
      },
      "outputs": [],
      "source": [
        "import numpy as np \n",
        "import pandas as pd \n",
        "import os\n",
        "import matplotlib.pyplot as plt\n",
        "import cv2\n",
        "import matplotlib.patches as patches\n",
        "import tensorflow as tf\n",
        "from keras.layers import Flatten, Dense, Conv2D, MaxPooling2D, Dropout\n",
        "from tensorflow.keras.layers import Dense, Activation, Flatten, Dropout, BatchNormalization\n",
        "from keras.models import Sequential"
      ]
    },
    {
      "cell_type": "code",
      "execution_count": 2,
      "metadata": {
        "id": "FzbqS4z5EUjp"
      },
      "outputs": [],
      "source": [
        "import tensorflow as tf\n",
        "import os\n",
        "import numpy as np\n",
        "import matplotlib.pyplot as plt\n",
        "from sklearn.preprocessing import LabelBinarizer\n",
        "from sklearn.model_selection import train_test_split\n",
        "from tensorflow.keras.layers import *\n",
        "from tensorflow.keras.models import Model\n",
        "from tensorflow.keras.optimizers import Adam\n",
        "from sklearn.metrics import classification_report"
      ]
    },
    {
      "cell_type": "code",
      "execution_count": 3,
      "metadata": {
        "colab": {
          "base_uri": "https://localhost:8080/"
        },
        "id": "F6FEE9kPHuTW",
        "outputId": "020ecf85-1312-4edf-835b-e768391468bb"
      },
      "outputs": [
        {
          "name": "stdout",
          "output_type": "stream",
          "text": [
            "Mounted at /content/gdrive\n"
          ]
        }
      ],
      "source": [
        "from google.colab import drive\n",
        "drive.mount('/content/gdrive')"
      ]
    },
    {
      "cell_type": "markdown",
      "metadata": {
        "id": "oywhjr4qgE53"
      },
      "source": [
        "# CNN model"
      ]
    },
    {
      "cell_type": "markdown",
      "metadata": {
        "id": "tPAgR6U-L3uv"
      },
      "source": [
        "CNN MODEL\n"
      ]
    },
    {
      "cell_type": "code",
      "execution_count": null,
      "metadata": {
        "id": "2UTYxmFqYi3A"
      },
      "outputs": [],
      "source": [
        "#get data"
      ]
    },
    {
      "cell_type": "code",
      "execution_count": null,
      "metadata": {
        "id": "ORAKiI7TnMAF"
      },
      "outputs": [],
      "source": [
        "!unzip gdrive/My\\ Drive/2022-432-Project-main.zip"
      ]
    },
    {
      "cell_type": "code",
      "execution_count": 9,
      "metadata": {
        "id": "kPBWpnAc9m_T"
      },
      "outputs": [],
      "source": [
        "#get training, testing, validation data\n",
        "DIR_train='/content/2022-432-Project-main/Processed Data/train'\n",
        "CATEGORIES=['mask weared incorrect','with mask', 'without mask']\n",
        "\n",
        "data_train =[]\n",
        "labels_train = []"
      ]
    },
    {
      "cell_type": "code",
      "execution_count": 10,
      "metadata": {
        "id": "502crM8C9m_d"
      },
      "outputs": [],
      "source": [
        "from skimage.exposure import equalize_adapthist\n",
        "from skimage.transform import resize\n",
        "        \n",
        "for category in CATEGORIES:\n",
        "    path=os.path.join(DIR_train,category)\n",
        "    for img in os.listdir(path):\n",
        "        image=os.path.join(path,img)\n",
        "        image =tf.keras.preprocessing.image.load_img(image,target_size=(96,96))\n",
        "        image = tf.keras.preprocessing.image.img_to_array(image)\n",
        "        image=tf.keras.applications.mobilenet_v2.preprocess_input(image)\n",
        "        data_train.append(image)\n",
        "        labels_train.append(category)        \n",
        "    "
      ]
    },
    {
      "cell_type": "code",
      "execution_count": 11,
      "metadata": {
        "id": "clFx7sH49m_e"
      },
      "outputs": [],
      "source": [
        "DIR_test='/content/2022-432-Project-main/Processed Data/test'\n",
        "CATEGORIES=['mask weared incorrect','with mask', 'without mask']\n",
        "data_test =[]\n",
        "labels_test = []\n",
        "for category in CATEGORIES:\n",
        "    path=os.path.join(DIR_test,category)\n",
        "    for img in os.listdir(path):\n",
        "        image=os.path.join(path,img)\n",
        "        image =tf.keras.preprocessing.image.load_img(image,target_size=(96,96))\n",
        "        image = tf.keras.preprocessing.image.img_to_array(image)\n",
        "        image=tf.keras.applications.mobilenet_v2.preprocess_input(image)\n",
        "        data_test.append(image)\n",
        "        labels_test.append(category)       "
      ]
    },
    {
      "cell_type": "code",
      "execution_count": 12,
      "metadata": {
        "id": "3zi-DYwiBd8J"
      },
      "outputs": [],
      "source": [
        "DIR_val='/content/2022-432-Project-main/Processed Data/val'\n",
        "CATEGORIES=['mask weared incorrect','with mask', 'without mask']\n",
        "data_val =[]\n",
        "labels_val = []\n",
        "for category in CATEGORIES:\n",
        "    path=os.path.join(DIR_val,category)\n",
        "    for img in os.listdir(path):\n",
        "        image=os.path.join(path,img)\n",
        "        image =tf.keras.preprocessing.image.load_img(image,target_size=(96,96))\n",
        "        image = tf.keras.preprocessing.image.img_to_array(image)\n",
        "        image=tf.keras.applications.mobilenet_v2.preprocess_input(image)\n",
        "        data_val.append(image)\n",
        "        labels_val.append(category)       "
      ]
    },
    {
      "cell_type": "code",
      "execution_count": 13,
      "metadata": {
        "id": "zdSrlHWT-4xk"
      },
      "outputs": [],
      "source": [
        "#encode data\n",
        "encoder = LabelBinarizer()\n",
        "labels_train=encoder.fit_transform(labels_train)\n",
        "labels_test=encoder.fit_transform(labels_test)"
      ]
    },
    {
      "cell_type": "code",
      "execution_count": 14,
      "metadata": {
        "id": "TWNe1CBo-4xk"
      },
      "outputs": [],
      "source": [
        "X_train=np.array(data_train,dtype='float32')\n",
        "y_train=np.array(labels_train)\n",
        "\n",
        "X_test=np.array(data_test,dtype='float32')\n",
        "y_test=np.array(labels_test)"
      ]
    },
    {
      "cell_type": "code",
      "execution_count": 15,
      "metadata": {
        "id": "BdKCmjBhBpSh"
      },
      "outputs": [],
      "source": [
        "labels_val=encoder.fit_transform(labels_val)\n",
        "X_val=np.array(data_val,dtype='float32')\n",
        "y_val=np.array(labels_val)\n"
      ]
    },
    {
      "cell_type": "code",
      "execution_count": 16,
      "metadata": {
        "id": "a0WDrIGs-DaF"
      },
      "outputs": [],
      "source": [
        "#define model\n",
        "model=Sequential()\n",
        "model.add(Conv2D(100,(3,3),input_shape=X_train.shape[1:],activation='relu',strides=2))\n",
        "model.add(MaxPooling2D(pool_size=(2,2)))\n",
        "\n",
        "model.add(Conv2D(64,(3,3),activation='relu'))\n",
        "model.add(MaxPooling2D(pool_size=(2,2)))\n",
        "\n",
        "model.add(Flatten())\n",
        "model.add(Dense(50, activation='relu'))\n",
        "\n",
        "model.add(Dropout(0.2))\n",
        "\n",
        "model.add(Dense(3, activation='softmax'))"
      ]
    },
    {
      "cell_type": "code",
      "execution_count": 17,
      "metadata": {
        "colab": {
          "base_uri": "https://localhost:8080/"
        },
        "id": "zjbQlbRL-lNO",
        "outputId": "4af2ae24-07df-413c-8538-7217c07b82ed"
      },
      "outputs": [
        {
          "name": "stdout",
          "output_type": "stream",
          "text": [
            "Model: \"sequential\"\n",
            "_________________________________________________________________\n",
            " Layer (type)                Output Shape              Param #   \n",
            "=================================================================\n",
            " conv2d (Conv2D)             (None, 47, 47, 100)       2800      \n",
            "                                                                 \n",
            " max_pooling2d (MaxPooling2D  (None, 23, 23, 100)      0         \n",
            " )                                                               \n",
            "                                                                 \n",
            " conv2d_1 (Conv2D)           (None, 21, 21, 64)        57664     \n",
            "                                                                 \n",
            " max_pooling2d_1 (MaxPooling  (None, 10, 10, 64)       0         \n",
            " 2D)                                                             \n",
            "                                                                 \n",
            " flatten (Flatten)           (None, 6400)              0         \n",
            "                                                                 \n",
            " dense (Dense)               (None, 50)                320050    \n",
            "                                                                 \n",
            " dropout (Dropout)           (None, 50)                0         \n",
            "                                                                 \n",
            " dense_1 (Dense)             (None, 3)                 153       \n",
            "                                                                 \n",
            "=================================================================\n",
            "Total params: 380,667\n",
            "Trainable params: 380,667\n",
            "Non-trainable params: 0\n",
            "_________________________________________________________________\n"
          ]
        }
      ],
      "source": [
        "model.summary()"
      ]
    },
    {
      "cell_type": "code",
      "execution_count": 18,
      "metadata": {
        "colab": {
          "base_uri": "https://localhost:8080/"
        },
        "id": "H120T1hz-naP",
        "outputId": "604dc9e0-9401-4fd8-e373-796fe7664d68"
      },
      "outputs": [
        {
          "name": "stderr",
          "output_type": "stream",
          "text": [
            "/usr/local/lib/python3.7/dist-packages/keras/optimizer_v2/adam.py:105: UserWarning: The `lr` argument is deprecated, use `learning_rate` instead.\n",
            "  super(Adam, self).__init__(name, **kwargs)\n"
          ]
        },
        {
          "name": "stdout",
          "output_type": "stream",
          "text": [
            "Epoch 1/30\n",
            "652/652 [==============================] - 15s 5ms/step - loss: 0.3193 - accuracy: 0.8916 - val_loss: 0.2160 - val_accuracy: 0.9335\n",
            "Epoch 2/30\n",
            "652/652 [==============================] - 3s 4ms/step - loss: 0.2086 - accuracy: 0.9321 - val_loss: 0.1511 - val_accuracy: 0.9581\n",
            "Epoch 3/30\n",
            "652/652 [==============================] - 3s 4ms/step - loss: 0.1915 - accuracy: 0.9392 - val_loss: 0.1472 - val_accuracy: 0.9532\n",
            "Epoch 4/30\n",
            "652/652 [==============================] - 3s 4ms/step - loss: 0.1763 - accuracy: 0.9447 - val_loss: 0.1364 - val_accuracy: 0.9581\n",
            "Epoch 5/30\n",
            "652/652 [==============================] - 3s 4ms/step - loss: 0.1681 - accuracy: 0.9506 - val_loss: 0.1251 - val_accuracy: 0.9557\n",
            "Epoch 6/30\n",
            "652/652 [==============================] - 3s 4ms/step - loss: 0.1497 - accuracy: 0.9521 - val_loss: 0.1380 - val_accuracy: 0.9532\n",
            "Epoch 7/30\n",
            "652/652 [==============================] - 3s 4ms/step - loss: 0.1441 - accuracy: 0.9567 - val_loss: 0.1295 - val_accuracy: 0.9507\n",
            "Epoch 8/30\n",
            "652/652 [==============================] - 3s 4ms/step - loss: 0.1381 - accuracy: 0.9588 - val_loss: 0.1313 - val_accuracy: 0.9581\n",
            "Epoch 9/30\n",
            "652/652 [==============================] - 3s 4ms/step - loss: 0.1280 - accuracy: 0.9595 - val_loss: 0.1632 - val_accuracy: 0.9409\n",
            "Epoch 10/30\n",
            "652/652 [==============================] - 3s 4ms/step - loss: 0.1202 - accuracy: 0.9613 - val_loss: 0.1313 - val_accuracy: 0.9606\n",
            "Epoch 11/30\n",
            "652/652 [==============================] - 3s 4ms/step - loss: 0.1079 - accuracy: 0.9653 - val_loss: 0.1222 - val_accuracy: 0.9680\n",
            "Epoch 12/30\n",
            "652/652 [==============================] - 3s 4ms/step - loss: 0.0985 - accuracy: 0.9699 - val_loss: 0.1344 - val_accuracy: 0.9557\n",
            "Epoch 13/30\n",
            "652/652 [==============================] - 3s 4ms/step - loss: 0.0936 - accuracy: 0.9705 - val_loss: 0.1214 - val_accuracy: 0.9655\n",
            "Epoch 14/30\n",
            "652/652 [==============================] - 3s 4ms/step - loss: 0.0874 - accuracy: 0.9730 - val_loss: 0.1316 - val_accuracy: 0.9557\n",
            "Epoch 15/30\n",
            "652/652 [==============================] - 3s 4ms/step - loss: 0.0783 - accuracy: 0.9757 - val_loss: 0.1238 - val_accuracy: 0.9581\n",
            "Epoch 16/30\n",
            "652/652 [==============================] - 3s 4ms/step - loss: 0.0746 - accuracy: 0.9745 - val_loss: 0.1285 - val_accuracy: 0.9606\n",
            "Epoch 17/30\n",
            "652/652 [==============================] - 3s 4ms/step - loss: 0.0687 - accuracy: 0.9819 - val_loss: 0.1411 - val_accuracy: 0.9557\n",
            "Epoch 18/30\n",
            "652/652 [==============================] - 3s 4ms/step - loss: 0.0615 - accuracy: 0.9807 - val_loss: 0.1309 - val_accuracy: 0.9581\n",
            "Epoch 19/30\n",
            "652/652 [==============================] - 3s 5ms/step - loss: 0.0547 - accuracy: 0.9819 - val_loss: 0.1320 - val_accuracy: 0.9581\n",
            "Epoch 20/30\n",
            "652/652 [==============================] - 3s 5ms/step - loss: 0.0486 - accuracy: 0.9859 - val_loss: 0.1384 - val_accuracy: 0.9581\n",
            "Epoch 21/30\n",
            "652/652 [==============================] - 3s 5ms/step - loss: 0.0501 - accuracy: 0.9840 - val_loss: 0.1509 - val_accuracy: 0.9581\n",
            "Epoch 22/30\n",
            "652/652 [==============================] - 3s 4ms/step - loss: 0.0404 - accuracy: 0.9877 - val_loss: 0.1577 - val_accuracy: 0.9631\n",
            "Epoch 23/30\n",
            "652/652 [==============================] - 3s 4ms/step - loss: 0.0360 - accuracy: 0.9896 - val_loss: 0.1749 - val_accuracy: 0.9458\n",
            "Epoch 24/30\n",
            "652/652 [==============================] - 3s 4ms/step - loss: 0.0402 - accuracy: 0.9865 - val_loss: 0.1408 - val_accuracy: 0.9606\n",
            "Epoch 25/30\n",
            "652/652 [==============================] - 3s 4ms/step - loss: 0.0279 - accuracy: 0.9917 - val_loss: 0.1689 - val_accuracy: 0.9631\n",
            "Epoch 26/30\n",
            "652/652 [==============================] - 3s 4ms/step - loss: 0.0280 - accuracy: 0.9914 - val_loss: 0.1684 - val_accuracy: 0.9581\n",
            "Epoch 27/30\n",
            "652/652 [==============================] - 3s 4ms/step - loss: 0.0227 - accuracy: 0.9920 - val_loss: 0.1789 - val_accuracy: 0.9581\n",
            "Epoch 28/30\n",
            "652/652 [==============================] - 3s 4ms/step - loss: 0.0211 - accuracy: 0.9957 - val_loss: 0.1742 - val_accuracy: 0.9532\n",
            "Epoch 29/30\n",
            "652/652 [==============================] - 3s 4ms/step - loss: 0.0251 - accuracy: 0.9920 - val_loss: 0.1549 - val_accuracy: 0.9631\n",
            "Epoch 30/30\n",
            "652/652 [==============================] - 3s 4ms/step - loss: 0.0188 - accuracy: 0.9942 - val_loss: 0.2173 - val_accuracy: 0.9606\n"
          ]
        },
        {
          "data": {
            "text/plain": [
              "<keras.callbacks.History at 0x7fb0402bee50>"
            ]
          },
          "execution_count": 18,
          "metadata": {},
          "output_type": "execute_result"
        }
      ],
      "source": [
        "opt = tf.keras.optimizers.Adam(lr=1e-4, decay=1e-5)\n",
        "model.compile(optimizer=opt, loss='categorical_crossentropy', metrics=['accuracy']) \n",
        "model.fit(X_train,y_train,epochs=30,batch_size=5,validation_data=[X_val,y_val])"
      ]
    },
    {
      "cell_type": "code",
      "execution_count": 19,
      "metadata": {
        "colab": {
          "base_uri": "https://localhost:8080/"
        },
        "id": "KODti5Vv-rhG",
        "outputId": "337ddf2b-c48a-4f6f-c39c-5901f0a382aa"
      },
      "outputs": [
        {
          "name": "stdout",
          "output_type": "stream",
          "text": [
            "26/26 [==============================] - 0s 6ms/step - loss: 0.3925 - accuracy: 0.9415\n"
          ]
        },
        {
          "data": {
            "text/plain": [
              "[0.39253920316696167, 0.9414634108543396]"
            ]
          },
          "execution_count": 19,
          "metadata": {},
          "output_type": "execute_result"
        }
      ],
      "source": [
        "model.evaluate(X_test, y_test, batch_size=16)"
      ]
    },
    {
      "cell_type": "code",
      "execution_count": 20,
      "metadata": {
        "colab": {
          "base_uri": "https://localhost:8080/"
        },
        "id": "j4XSCmuoBIcD",
        "outputId": "11f3268c-fde9-4065-b2d6-41d1e21e35ec"
      },
      "outputs": [
        {
          "data": {
            "text/plain": [
              "array([[1.1592089e-01, 6.0639423e-01, 2.7768490e-01],\n",
              "       [9.9628711e-01, 1.7733961e-04, 3.5356153e-03],\n",
              "       [7.4337912e-01, 2.5662088e-01, 3.0001683e-08],\n",
              "       ...,\n",
              "       [7.3893294e-03, 4.3237335e-03, 9.8828691e-01],\n",
              "       [9.1751193e-05, 2.9726269e-05, 9.9987853e-01],\n",
              "       [1.5068651e-03, 1.2709843e-02, 9.8578334e-01]], dtype=float32)"
            ]
          },
          "execution_count": 20,
          "metadata": {},
          "output_type": "execute_result"
        }
      ],
      "source": [
        "model.predict(X_test, batch_size=16)"
      ]
    },
    {
      "cell_type": "code",
      "execution_count": 21,
      "metadata": {
        "id": "Lb4jF4myEQzg"
      },
      "outputs": [],
      "source": [
        "pred_test = model.predict(X_test, batch_size=16)>0.5\n"
      ]
    },
    {
      "cell_type": "code",
      "execution_count": 22,
      "metadata": {
        "colab": {
          "base_uri": "https://localhost:8080/"
        },
        "id": "jhCdG_S7EXQx",
        "outputId": "dd04866f-8574-45de-b329-71e03d438003"
      },
      "outputs": [
        {
          "data": {
            "text/plain": [
              "array([[False,  True, False],\n",
              "       [ True, False, False],\n",
              "       [ True, False, False],\n",
              "       ...,\n",
              "       [False, False,  True],\n",
              "       [False, False,  True],\n",
              "       [False, False,  True]])"
            ]
          },
          "execution_count": 22,
          "metadata": {},
          "output_type": "execute_result"
        }
      ],
      "source": [
        "pred_test"
      ]
    },
    {
      "cell_type": "code",
      "execution_count": 23,
      "metadata": {
        "colab": {
          "base_uri": "https://localhost:8080/"
        },
        "id": "LxH7mvYlEdDa",
        "outputId": "64b4d389-5a53-4a16-96dc-b292dc1a774a"
      },
      "outputs": [
        {
          "name": "stdout",
          "output_type": "stream",
          "text": [
            "                      precision    recall  f1-score   support\n",
            "\n",
            "incorrecly wear mask       0.71      0.38      0.50        13\n",
            "corrrectly wear mask       0.95      0.98      0.96       324\n",
            "             no mask       0.93      0.89      0.91        73\n",
            "\n",
            "           micro avg       0.95      0.94      0.94       410\n",
            "           macro avg       0.87      0.75      0.79       410\n",
            "        weighted avg       0.94      0.94      0.94       410\n",
            "         samples avg       0.94      0.94      0.94       410\n",
            "\n",
            "[INFO] saving mask detector model...\n"
          ]
        },
        {
          "name": "stderr",
          "output_type": "stream",
          "text": [
            "/usr/local/lib/python3.7/dist-packages/sklearn/metrics/_classification.py:1318: UndefinedMetricWarning: Precision and F-score are ill-defined and being set to 0.0 in samples with no predicted labels. Use `zero_division` parameter to control this behavior.\n",
            "  _warn_prf(average, modifier, msg_start, len(result))\n"
          ]
        }
      ],
      "source": [
        "# show a nicely formatted classification report\n",
        "print(classification_report(y_test, pred_test,target_names=['incorrecly wear mask','corrrectly wear mask', 'no mask']))\n",
        "\n",
        "# serialize the model to disk\n",
        "print(\"[INFO] saving mask detector model...\")\n",
        "model.save(\"mask_cnn_multi.hdf5\", save_format=\"hdf5\")"
      ]
    },
    {
      "cell_type": "code",
      "execution_count": 25,
      "metadata": {
        "colab": {
          "base_uri": "https://localhost:8080/",
          "height": 295
        },
        "id": "ThjLeXSQdCdN",
        "outputId": "16055c3f-6c59-408d-ecbe-2ad0f5308965"
      },
      "outputs": [
        {
          "data": {
            "image/png": "[encoded data removed]",
            "text/plain": [
              "<Figure size 432x288 with 2 Axes>"
            ]
          },
          "metadata": {
            "needs_background": "light"
          },
          "output_type": "display_data"
        }
      ],
      "source": [
        "import seaborn as sns\n",
        "import sklearn\n",
        "\n",
        "T5_lables = ['incorrectly wear','correctly wear','no mask']    \n",
        "\n",
        "ax= plt.subplot()\n",
        "\n",
        "cm = sklearn.metrics.confusion_matrix(np.asarray(y_test).argmax(axis=1), np.asarray(pred_test).argmax(axis=1))\n",
        "sns.heatmap(cm, annot=True, fmt='g', ax=ax);  #annot=True to annotate cells, ftm='g' to disable scientific notation\n",
        "\n",
        "# labels, title and ticks\n",
        "ax.set_xlabel('Predicted labels');ax.set_ylabel('True labels'); \n",
        "ax.set_title('Confusion Matrix'); \n",
        "ax.xaxis.set_ticklabels(T5_lables); ax.yaxis.set_ticklabels(T5_lables);"
      ]
    },
    {
      "cell_type": "code",
      "execution_count": 30,
      "metadata": {
        "colab": {
          "base_uri": "https://localhost:8080/"
        },
        "id": "2k-y1KU3NGsk",
        "outputId": "c69546e4-e3b9-4ae9-867c-504bd27f984a"
      },
      "outputs": [
        {
          "data": {
            "text/plain": [
              "array([  0,   0,   3,   3,   4,   4,   7,   7,   9,   9,  10,  10,  11,\n",
              "        11,  12,  12,  71,  71, 140, 140, 167, 167, 175, 194, 194, 195,\n",
              "       195, 246, 246, 268, 338, 338, 349, 349, 372, 372, 376, 376, 387,\n",
              "       387, 398, 398, 401, 401, 406, 406])"
            ]
          },
          "execution_count": 30,
          "metadata": {},
          "output_type": "execute_result"
        }
      ],
      "source": [
        "np.where(np.not_equal(y_test, pred_test))[0]"
      ]
    },
    {
      "cell_type": "code",
      "execution_count": 33,
      "metadata": {
        "colab": {
          "base_uri": "https://localhost:8080/",
          "height": 235
        },
        "id": "vTAZjpm1NMrf",
        "outputId": "ba7c6c2f-4573-41c8-889a-4be2b92e6984"
      },
      "outputs": [
        {
          "name": "stderr",
          "output_type": "stream",
          "text": [
            "Clipping input data to the valid range for imshow with RGB data ([0..1] for floats or [0..255] for integers).\n",
            "Clipping input data to the valid range for imshow with RGB data ([0..1] for floats or [0..255] for integers).\n",
            "Clipping input data to the valid range for imshow with RGB data ([0..1] for floats or [0..255] for integers).\n",
            "Clipping input data to the valid range for imshow with RGB data ([0..1] for floats or [0..255] for integers).\n",
            "Clipping input data to the valid range for imshow with RGB data ([0..1] for floats or [0..255] for integers).\n",
            "Clipping input data to the valid range for imshow with RGB data ([0..1] for floats or [0..255] for integers).\n"
          ]
        },
        {
          "data": {
            "image/png": "[encoded data removed]",
            "text/plain": [
              "<Figure size 720x936 with 6 Axes>"
            ]
          },
          "metadata": {
            "needs_background": "light"
          },
          "output_type": "display_data"
        }
      ],
      "source": [
        "#show some misclassified images\n",
        "w = 10\n",
        "h = 5\n",
        "fig = plt.figure(figsize=(10, 13))\n",
        "columns = 6\n",
        "rows = 1\n",
        "# prep (x,y) for extra plotting\n",
        "xs = np.linspace(0, 2*np.pi, 60)  # from 0 to 2pi\n",
        "ys = np.abs(np.sin(xs))           # absolute of sine\n",
        "ax = []\n",
        "index=1\n",
        "for i in [0,3,4,7,9,10]:\n",
        "    img = np.random.randint(10, size=(h,w))\n",
        "    ax.append( fig.add_subplot(rows, columns, index) )\n",
        "    index+=1\n",
        "    plt.imshow(X_test[i].reshape(96,96,3))\n",
        "\n",
        "\n",
        "\n",
        "plt.show()  "
      ]
    },
    {
      "cell_type": "code",
      "execution_count": null,
      "metadata": {
        "id": "0JKBK7goNhR4"
      },
      "outputs": [],
      "source": []
    }
  ],
  "metadata": {
    "accelerator": "GPU",
    "colab": {
      "collapsed_sections": [],
      "name": "DL_Project.ipynb",
      "provenance": []
    },
    "kernelspec": {
      "display_name": "Python 3",
      "name": "python3"
    },
    "language_info": {
      "name": "python"
    }
  },
  "nbformat": 4,
  "nbformat_minor": 0
}
